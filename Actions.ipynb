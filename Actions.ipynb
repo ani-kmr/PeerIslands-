{
 "cells": [
  {
   "cell_type": "code",
   "execution_count": 0,
   "metadata": {
    "application/vnd.databricks.v1+cell": {
     "cellMetadata": {
      "byteLimit": 2048000,
      "rowLimit": 10000
     },
     "inputWidgets": {},
     "nuid": "e6ad6412-24bd-4acf-adc1-0f0c2ba395c6",
     "showTitle": false,
     "tableResultSettingsMap": {},
     "title": ""
    }
   },
   "outputs": [],
   "source": [
    "%run\n",
    " /Workspace/Users/anilkun42@gmail.com/transformation"
   ]
  },
  {
   "cell_type": "markdown",
   "metadata": {
    "application/vnd.databricks.v1+cell": {
     "cellMetadata": {
      "byteLimit": 2048000,
      "rowLimit": 10000
     },
     "inputWidgets": {},
     "nuid": "8c852713-404e-464d-9f89-29d71cfc433c",
     "showTitle": false,
     "tableResultSettingsMap": {},
     "title": ""
    }
   },
   "source": [
    "##Action Functions\n"
   ]
  },
  {
   "cell_type": "code",
   "execution_count": 0,
   "metadata": {
    "application/vnd.databricks.v1+cell": {
     "cellMetadata": {
      "byteLimit": 2048000,
      "rowLimit": 10000
     },
     "inputWidgets": {},
     "nuid": "06640c0b-0213-4b4c-992d-26dd2bc04df1",
     "showTitle": false,
     "tableResultSettingsMap": {},
     "title": ""
    }
   },
   "outputs": [],
   "source": [
    "from pyspark.sql import DataFrame\n",
    "from delta.tables import DeltaTable\n",
    "\n",
    "\n",
    "\n",
    "def create_delta_table(df, table_path, mode=\"ignore\", partition_cols=None):\n",
    "    writer = df.write.format(\"delta\").mode(mode)\n",
    "    if partition_cols:\n",
    "        writer = writer.partitionBy(partition_cols)\n",
    "    if \".\" in table_path:\n",
    "        writer.saveAsTable(table_path)\n",
    "    else:\n",
    "        writer.save(table_path)\n",
    "\t\t\t\n",
    "\t\n",
    "\t\n",
    "def optimize_delta_table(table_path, col_names=None):\n",
    "    spark.sql(f\"OPTIMIZE {table_path}\") if \".\" in table_path else \\\n",
    "    spark.sql(f\"OPTIMIZE delta.`{table_path}`\")\n",
    "    \n",
    "    if col_names:\n",
    "        if isinstance(col_names, str):\n",
    "            col_names = [col_names]\n",
    "        spark.sql(f\"OPTIMIZE {table_path} ZORDER BY ({','.join(col_names)})\") if \".\" in table_path else \\\n",
    "        spark.sql(f\"OPTIMIZE delta.`{table_path}` ZORDER BY ({','.join(col_names)})\")\n",
    "\t\t\n",
    "\t\t\n",
    "def vacuum_delta_table(table_path, retention_hours=168):\n",
    "    spark.sql(f\"VACUUM {table_path} RETAIN {retention_hours} HOURS\") if \".\" in table_path else \\\n",
    "    spark.sql(f\"VACUUM delta.`{table_path}` RETAIN {retention_hours} HOURS\")\n",
    "\t\n",
    "\t\n",
    "def read_delta_with_timetravel(table_path, version=None, timestamp=None):\n",
    "    reader = spark.read.format(\"delta\")\n",
    "    if version:\n",
    "        reader = reader.option(\"versionAsOf\", version)\n",
    "    if timestamp:\n",
    "        reader = reader.option(\"timestampAsOf\", timestamp)\n",
    "    return reader.load(table_path)\n",
    "\t\n",
    "\t\n",
    "def delete_from_delta(table_path, condition):\n",
    "    if \".\" in table_path:\n",
    "        spark.sql(f\"DELETE FROM {table_path} WHERE {condition}\")\n",
    "    else:\n",
    "        delta_table = DeltaTable.forPath(spark, table_path)\n",
    "        delta_table.delete(condition)\n",
    "\t\t\n",
    "\t\t\n",
    "def evolve_delta_schema(table_path, merge_schema=True):\n",
    "    spark.conf.set(\"spark.databricks.delta.schema.autoMerge.enabled\", str(merge_schema).lower())\n",
    "\n",
    "\n",
    "\n",
    "def get_max_version(table_path) :\n",
    "    history_df = spark.sql(f\"DESCRIBE HISTORY delta.`{table_path}`\")\n",
    "    return history_df.agg({\"version\": \"max\"}).collect()[0][0]\n",
    "    \n",
    "    "
   ]
  },
  {
   "cell_type": "code",
   "execution_count": 0,
   "metadata": {
    "application/vnd.databricks.v1+cell": {
     "cellMetadata": {
      "byteLimit": 2048000,
      "rowLimit": 10000
     },
     "inputWidgets": {},
     "nuid": "0c923c34-ebdf-4ed3-845d-e5ff5b157cd9",
     "showTitle": false,
     "tableResultSettingsMap": {},
     "title": ""
    }
   },
   "outputs": [],
   "source": [
    "ACTIONS = {\n",
    "    'create': create_delta_table,\n",
    "    'optimize': optimize_delta_table,\n",
    "    'vacuum': vacuum_delta_table,\n",
    "    'read': read_delta_with_timetravel,\n",
    "    'delete': delete_from_delta,\n",
    "    'evolve': evolve_delta_schema,\n",
    "    'version': get_max_version\n",
    "}"
   ]
  },
  {
   "cell_type": "code",
   "execution_count": 0,
   "metadata": {
    "application/vnd.databricks.v1+cell": {
     "cellMetadata": {
      "byteLimit": 2048000,
      "rowLimit": 10000
     },
     "inputWidgets": {},
     "nuid": "d0fac91b-a73d-4018-9bb2-8a93a5821a3c",
     "showTitle": false,
     "tableResultSettingsMap": {},
     "title": ""
    }
   },
   "outputs": [],
   "source": [
    "def apply_actions(df, action_steps):\n",
    "    for step_num, step in enumerate(action_steps, start=1):\n",
    "        action = step['action']\n",
    "        params = step.get('params', {})\n",
    "        if action == 'create':\n",
    "            params['df'] = df  \n",
    "        try:\n",
    "            ACTIONS[action](**params)\n",
    "        except Exception as e:\n",
    "            logging.error(f\"Delta operation failed at step {step_num} ({action}): {str(e)}\")\n",
    "            raise Exception(f\"Step {step_num} failed: {str(e)}\") from e"
   ]
  },
  {
   "cell_type": "code",
   "execution_count": 0,
   "metadata": {
    "application/vnd.databricks.v1+cell": {
     "cellMetadata": {
      "byteLimit": 2048000,
      "rowLimit": 10000
     },
     "inputWidgets": {},
     "nuid": "f4dd8b04-9525-415f-a07f-0bb532ed491f",
     "showTitle": false,
     "tableResultSettingsMap": {},
     "title": ""
    }
   },
   "outputs": [],
   "source": [
    "\n",
    "\n",
    "action_steps = [\n",
    "    {'action': 'create', 'params': {'table_path': 'peerisland.peer.peer_csutomer'}},\n",
    "    {'action': 'optimize', 'params': {'table_path': 'peerisland.peer.peer_csutomer'}},\n",
    "    # {'action': 'vacuum', 'params': {'table_path': 'peerisland.peer.peer_csutomer'}},\n",
    "    # {'action': 'read', 'params': {'table_path': 'peerisland.peer.peer_csutomer', 'version': 1}},\n",
    "    # {'action': 'delete', 'params': {'table_path': 'peerisland.peer.peer_csutomer', 'condition': 'status = \"inactive\"'}},\n",
    "    # {'action': 'evolve', 'params': {'table_path': 'peerisland.peer.peer_csutomer'}}\n",
    "]"
   ]
  },
  {
   "cell_type": "code",
   "execution_count": 0,
   "metadata": {
    "application/vnd.databricks.v1+cell": {
     "cellMetadata": {
      "byteLimit": 2048000,
      "rowLimit": 10000
     },
     "inputWidgets": {},
     "nuid": "7570d904-a3f4-4d58-906d-7aaa65e879c0",
     "showTitle": false,
     "tableResultSettingsMap": {},
     "title": ""
    }
   },
   "outputs": [],
   "source": [
    "final_df = final_df.withColumnRenamed(\"Subscription Date\", \"Subscription_Date\")\n",
    "apply_actions(final_df, action_steps)"
   ]
  },
  {
   "cell_type": "code",
   "execution_count": 0,
   "metadata": {
    "application/vnd.databricks.v1+cell": {
     "cellMetadata": {
      "byteLimit": 2048000,
      "implicitDf": true,
      "rowLimit": 10000
     },
     "inputWidgets": {},
     "nuid": "106676e9-b79c-45e2-b06e-ca2485265399",
     "showTitle": false,
     "tableResultSettingsMap": {},
     "title": ""
    }
   },
   "outputs": [],
   "source": [
    "%sql\n",
    "select * from peerisland.peer.peer_csutomer"
   ]
  }
 ],
 "metadata": {
  "application/vnd.databricks.v1+notebook": {
   "computePreferences": null,
   "dashboards": [],
   "environmentMetadata": {
    "base_environment": "",
    "environment_version": "2"
   },
   "inputWidgetPreferences": null,
   "language": "python",
   "notebookMetadata": {
    "mostRecentlyExecutedCommandWithImplicitDF": {
     "commandId": 8733841673621396,
     "dataframes": [
      "_sqldf"
     ]
    },
    "pythonIndentUnit": 4
   },
   "notebookName": "Actions",
   "widgets": {}
  },
  "language_info": {
   "name": "python"
  }
 },
 "nbformat": 4,
 "nbformat_minor": 0
}
